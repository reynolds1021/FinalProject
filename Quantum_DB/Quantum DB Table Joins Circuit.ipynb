{
 "cells": [
  {
   "cell_type": "code",
   "execution_count": 1,
   "metadata": {},
   "outputs": [
    {
     "name": "stderr",
     "output_type": "stream",
     "text": [
      "/opt/conda/lib/python3.7/site-packages/qiskit/providers/ibmq/ibmqfactory.py:192: UserWarning: Timestamps in IBMQ backend properties, jobs, and job results are all now in local time instead of UTC.\n",
      "  warnings.warn('Timestamps in IBMQ backend properties, jobs, and job results '\n"
     ]
    }
   ],
   "source": [
    "%matplotlib inline\n",
    "# Importing standard Qiskit libraries\n",
    "import qiskit as q\n",
    "from qiskit import QuantumCircuit, execute, Aer, IBMQ\n",
    "from qiskit.compiler import transpile, assemble\n",
    "from qiskit.tools.jupyter import *\n",
    "from qiskit.visualization import *\n",
    "from iqx import *\n",
    "\n",
    "# Loading your IBM Q account(s)\n",
    "provider = IBMQ.load_account()"
   ]
  },
  {
   "cell_type": "code",
   "execution_count": 2,
   "metadata": {},
   "outputs": [
    {
     "data": {
      "application/vnd.jupyter.widget-view+json": {
       "model_id": "c0412cda70654f44878bfc6366b98a23",
       "version_major": 2,
       "version_minor": 0
      },
      "text/plain": [
       "CircuitComposer(circuit=<qiskit.circuit.quantumcircuit.QuantumCircuit object at 0x7f48f012aa50>)"
      ]
     },
     "metadata": {},
     "output_type": "display_data"
    }
   ],
   "source": [
    "from qiskit import QuantumRegister, ClassicalRegister, QuantumCircuit\n",
    "from numpy import pi\n",
    "\n",
    "qreg_q = QuantumRegister(12, 'q')\n",
    "creg_c = ClassicalRegister(12, 'c')\n",
    "circuit = QuantumCircuit(qreg_q, creg_c)\n",
    "\n",
    "circuit.h(qreg_q[0])\n",
    "circuit.h(qreg_q[1])\n",
    "circuit.barrier(qreg_q[2])\n",
    "circuit.barrier(qreg_q[3])\n",
    "circuit.barrier(qreg_q[4])\n",
    "circuit.barrier(qreg_q[5])\n",
    "circuit.barrier(qreg_q[6])\n",
    "circuit.barrier(qreg_q[7])\n",
    "circuit.barrier(qreg_q[8])\n",
    "circuit.barrier(qreg_q[9])\n",
    "circuit.barrier(qreg_q[10])\n",
    "circuit.h(qreg_q[11])\n",
    "circuit.barrier(qreg_q[0])\n",
    "circuit.barrier(qreg_q[1])\n",
    "circuit.barrier(qreg_q[2])\n",
    "circuit.barrier(qreg_q[3])\n",
    "circuit.barrier(qreg_q[4])\n",
    "circuit.barrier(qreg_q[5])\n",
    "circuit.barrier(qreg_q[6])\n",
    "circuit.barrier(qreg_q[7])\n",
    "circuit.barrier(qreg_q[8])\n",
    "circuit.barrier(qreg_q[9])\n",
    "circuit.barrier(qreg_q[10])\n",
    "circuit.barrier(qreg_q[11])\n",
    "circuit.h(qreg_q[0])\n",
    "circuit.h(qreg_q[1])\n",
    "circuit.barrier(qreg_q[2])\n",
    "circuit.barrier(qreg_q[3])\n",
    "circuit.barrier(qreg_q[4])\n",
    "circuit.barrier(qreg_q[5])\n",
    "circuit.barrier(qreg_q[6])\n",
    "circuit.cx(qreg_q[7], qreg_q[10])\n",
    "circuit.t(qreg_q[11])\n",
    "circuit.h(qreg_q[0])\n",
    "circuit.h(qreg_q[1])\n",
    "circuit.barrier(qreg_q[7])\n",
    "circuit.barrier(qreg_q[8])\n",
    "circuit.barrier(qreg_q[9])\n",
    "circuit.barrier(qreg_q[11])\n",
    "circuit.p(pi/2, qreg_q[0])\n",
    "circuit.barrier(qreg_q[1])\n",
    "circuit.cx(qreg_q[10], qreg_q[11])\n",
    "circuit.barrier(qreg_q[0])\n",
    "circuit.barrier(qreg_q[10])\n",
    "circuit.barrier(qreg_q[11])\n",
    "circuit.measure(qreg_q[1], creg_c[1])\n",
    "circuit.measure(qreg_q[0], creg_c[0])\n",
    "\n",
    "editor = CircuitComposer(circuit=circuit)\n",
    "editor"
   ]
  },
  {
   "cell_type": "code",
   "execution_count": 3,
   "metadata": {},
   "outputs": [
    {
     "data": {
      "text/plain": [
       "<AccountProvider for IBMQ(hub='ibm-q', group='open', project='main')>"
      ]
     },
     "execution_count": 3,
     "metadata": {},
     "output_type": "execute_result"
    }
   ],
   "source": [
    "provider"
   ]
  },
  {
   "cell_type": "code",
   "execution_count": 4,
   "metadata": {},
   "outputs": [
    {
     "name": "stdout",
     "output_type": "stream",
     "text": [
      "ibmq_qasm_simulator has 35 queued and simulator qubits\n",
      "ibmqx2 has 7 queued and 5 qubits\n",
      "ibmq_16_melbourne has 2911 queued and 15 qubits\n",
      "ibmq_vigo has 0 queued and 5 qubits\n",
      "ibmq_ourense has 1 queued and 5 qubits\n",
      "ibmq_valencia has 22 queued and 5 qubits\n",
      "ibmq_armonk has 3 queued and 1 qubits\n",
      "ibmq_athens has 15 queued and 5 qubits\n",
      "ibmq_santiago has 14 queued and 5 qubits\n"
     ]
    }
   ],
   "source": [
    "provider = IBMQ.get_provider('ibm-q') #Code to determine the avaiability of quantum machines on the IBM quantum cloud\n",
    "for backend in provider.backends():\n",
    "    try:\n",
    "        qubit_count = len(backend.properties().qubits)\n",
    "    except:\n",
    "        qubit_count = 'simulator'\n",
    "    print(f\"{backend.name()} has {backend.status().pending_jobs} queued and {qubit_count} qubits\") "
   ]
  },
  {
   "cell_type": "code",
   "execution_count": 5,
   "metadata": {},
   "outputs": [
    {
     "name": "stdout",
     "output_type": "stream",
     "text": [
      "Job Status: job has successfully run\n"
     ]
    }
   ],
   "source": [
    "from qiskit.tools.monitor import job_monitor #Code to create a job, choose a backend, and execute \n",
    "\n",
    "backend = provider.get_backend('ibmq_qasm_simulator')\n",
    "\n",
    "job = q.execute(circuit, backend=backend, shots=500) #500 attempts to measure value and determine probabilities (collapses each time due to superposition)\n",
    "\n",
    "job_monitor(job)"
   ]
  },
  {
   "cell_type": "code",
   "execution_count": 8,
   "metadata": {},
   "outputs": [
    {
     "data": {
      "image/png": "[encoded data removed]",
      "text/plain": [
       "<Figure size 1080x864 with 1 Axes>"
      ]
     },
     "execution_count": 8,
     "metadata": {},
     "output_type": "execute_result"
    }
   ],
   "source": [
    "from qiskit.visualization import plot_histogram #Plot histogram of probabilities based on the pre-defined job \n",
    "from matplotlib import style\n",
    "\n",
    "\n",
    "#style.use('dark background')\n",
    "\n",
    "result = job.result()\n",
    "\n",
    "counts = result.get_counts(circuit)\n",
    "\n",
    "#plot_histogram([counts])\n",
    "legend = ['First execution']\n",
    "plot_histogram([counts], legend=legend, sort='desc', figsize=(15,12),\n",
    "               color=['yellow'], bar_labels=False)"
   ]
  },
  {
   "cell_type": "code",
   "execution_count": 6,
   "metadata": {},
   "outputs": [],
   "source": [
    "from qiskit.visualization import plot_state_city, plot_bloch_multivector #Import various modules to view the quantum state using the\n",
    "# statevector simulator \n",
    "from qiskit.visualization import plot_state_paulivec, plot_state_hinton\n",
    "from qiskit.visualization import plot_state_qsphere\n",
    "\n",
    "backend = Aer.get_backend('statevector_simulator')\n",
    "\n",
    "result = job.result()\n",
    "\n",
    "\n",
    "\n",
    "result = execute(circuit, backend).result()\n",
    "qdb_r  = result.get_statevector(circuit)"
   ]
  },
  {
   "cell_type": "code",
   "execution_count": null,
   "metadata": {},
   "outputs": [],
   "source": [
    "plot_state_city(qdb_r, title=\"Quantum DB Retrieve circuit state matrix (Re and Im)\", color=['black', 'orange']) #Plot causes kernel to crash (too little memory)"
   ]
  },
  {
   "cell_type": "code",
   "execution_count": null,
   "metadata": {},
   "outputs": [],
   "source": [
    "plot_state_hinton(qdb_r, title=\"Quantum DB Retrieve Circuit matrix elements\") #Plot causes kernel to crash (too little memory)"
   ]
  },
  {
   "cell_type": "code",
   "execution_count": 7,
   "metadata": {},
   "outputs": [
    {
     "data": {
      "image/png": "[encoded data removed]",
      "text/plain": [
       "<Figure size 504x504 with 2 Axes>"
      ]
     },
     "execution_count": 7,
     "metadata": {},
     "output_type": "execute_result"
    }
   ],
   "source": [
    "plot_state_qsphere(qdb_r)"
   ]
  },
  {
   "cell_type": "code",
   "execution_count": null,
   "metadata": {},
   "outputs": [],
   "source": [
    "plot_state_paulivec(qdb_r, title=\") Quantum DB Retrieve Circuit state matrix (Pauli Basis)\", color=['purple', 'orange', 'green'])"
   ]
  },
  {
   "cell_type": "code",
   "execution_count": 8,
   "metadata": {},
   "outputs": [
    {
     "data": {
      "image/png": "[encoded data removed]",
      "text/plain": [
       "<Figure size 1152x144 with 12 Axes>"
      ]
     },
     "execution_count": 8,
     "metadata": {},
     "output_type": "execute_result"
    }
   ],
   "source": [
    "plot_bloch_multivector(qdb_r, title=\"Quantum DB Retrieve Circuit Bloch Spheres (qubit states)\")"
   ]
  },
  {
   "cell_type": "code",
   "execution_count": null,
   "metadata": {},
   "outputs": [],
   "source": []
  }
 ],
 "metadata": {
  "kernelspec": {
   "display_name": "Python 3",
   "language": "python",
   "name": "python3"
  },
  "language_info": {
   "codemirror_mode": {
    "name": "ipython",
    "version": 3
   },
   "file_extension": ".py",
   "mimetype": "text/x-python",
   "name": "python",
   "nbconvert_exporter": "python",
   "pygments_lexer": "ipython3",
   "version": "3.7.8"
  },
  "widgets": {
   "application/vnd.jupyter.widget-state+json": {
    "state": {
     "008e8b4fe4204a2ca218618cda53a937": {
      "model_module": "@jupyter-widgets/base",
      "model_module_version": "1.2.0",
      "model_name": "LayoutModel",
      "state": {
       "grid_area": "right",
       "padding": "0px 0px 0px 0px",
       "width": "70px"
      }
     },
     "015c99f098fb47cba0d4f82c00014072": {
      "model_module": "@jupyter-widgets/controls",
      "model_module_version": "1.5.0",
      "model_name": "DescriptionStyleModel",
      "state": {
       "description_width": ""
      }
     },
     "0561d66d13514485a16e00f998b74216": {
      "model_module": "@jupyter-widgets/controls",
      "model_module_version": "1.5.0",
      "model_name": "DescriptionStyleModel",
      "state": {
       "description_width": ""
      }
     },
     "067524b24019468499f39fa58b6e78d2": {
      "model_module": "@jupyter-widgets/base",
      "model_module_version": "1.2.0",
      "model_name": "LayoutModel",
      "state": {
       "margin": "0px 0px 10px 0px"
      }
     },
     "073470b4b5644104937e316d340c3d41": {
      "model_module": "@jupyter-widgets/base",
      "model_module_version": "1.2.0",
      "model_name": "LayoutModel",
      "state": {
       "width": "190px"
      }
     },
     "0820ae8f93ec4977909481c8aaa6ad28": {
      "model_module": "@jupyter-widgets/controls",
      "model_module_version": "1.5.0",
      "model_name": "ButtonStyleModel",
      "state": {}
     },
     "09d826454c214541bb9ab287746dee77": {
      "model_module": "@jupyter-widgets/controls",
      "model_module_version": "1.5.0",
      "model_name": "DescriptionStyleModel",
      "state": {
       "description_width": ""
      }
     },
     "0ab419a115a448789122810035d13805": {
      "model_module": "@jupyter-widgets/controls",
      "model_module_version": "1.5.0",
      "model_name": "DescriptionStyleModel",
      "state": {
       "description_width": ""
      }
     },
     "0be03ad1be60469296400b2aece6dd09": {
      "model_module": "@jupyter-widgets/controls",
      "model_module_version": "1.5.0",
      "model_name": "HTMLModel",
      "state": {
       "layout": "IPY_MODEL_10a7fae5668a4b8f94773c354eb0f677",
       "style": "IPY_MODEL_09d826454c214541bb9ab287746dee77",
       "value": "<h5>Status</h5>"
      }
     },
     "0d1a0b6dc8c4422296f9e04bda60da84": {
      "model_module": "@jupyter-widgets/controls",
      "model_module_version": "1.5.0",
      "model_name": "HTMLModel",
      "state": {
       "layout": "IPY_MODEL_6c459f9230d44999bd3cb9d084dae3bc",
       "style": "IPY_MODEL_a92ed45dabe74bf9a3ad271a1a84a3d5",
       "value": "<h5>Backend</h5>"
      }
     },
     "0e20639beb65493496cc28d284de2bbb": {
      "model_module": "@jupyter-widgets/controls",
      "model_module_version": "1.5.0",
      "model_name": "DescriptionStyleModel",
      "state": {
       "description_width": ""
      }
     },
     "0f178795bd0848fd9be5a7a5342debaa": {
      "model_module": "@jupyter-widgets/controls",
      "model_module_version": "1.5.0",
      "model_name": "HTMLModel",
      "state": {
       "layout": "IPY_MODEL_b4592a3e3fcf4bd8bc95fd852a5ec502",
       "style": "IPY_MODEL_4cdee53f8b594062ae3341149dc545c8",
       "value": "ibmq_qasm_simulator"
      }
     },
     "10a7fae5668a4b8f94773c354eb0f677": {
      "model_module": "@jupyter-widgets/base",
      "model_module_version": "1.2.0",
      "model_name": "LayoutModel",
      "state": {
       "width": "95px"
      }
     },
     "142b3c23ffde454c88e4ae74949f4de0": {
      "model_module": "@jupyter-widgets/controls",
      "model_module_version": "1.5.0",
      "model_name": "HBoxModel",
      "state": {
       "children": [
        "IPY_MODEL_aae706e1558c4b9187209e3cea684b8f",
        "IPY_MODEL_4fee240c2ffc4ce7a95cc01b7131a34b",
        "IPY_MODEL_0f178795bd0848fd9be5a7a5342debaa",
        "IPY_MODEL_404d828f411f4f2485dfa77f6d08601f",
        "IPY_MODEL_afff4d7f0c0749ff869da2708da81b99",
        "IPY_MODEL_aa90b36010d74b2ba041e8cdccc58ef1"
       ],
       "layout": "IPY_MODEL_51c83e68c7354b58aa6cee3584d2c987"
      }
     },
     "149ac67b98f240ca9806b524d0571cbd": {
      "model_module": "@jupyter-widgets/controls",
      "model_module_version": "1.5.0",
      "model_name": "HTMLModel",
      "state": {
       "layout": "IPY_MODEL_aa86028567824c0591c7c28c680a4a8e",
       "style": "IPY_MODEL_bf0d7d51c7094a5f8874cd1199113f0a",
       "value": "<h5>Queue</h5>"
      }
     },
     "17d5bf379c374f1ba192c26b543a83f1": {
      "model_module": "@jupyter-widgets/controls",
      "model_module_version": "1.5.0",
      "model_name": "HTMLModel",
      "state": {
       "layout": "IPY_MODEL_e5b269d92d554ec784f378a1399e3fec",
       "style": "IPY_MODEL_b6a4e04cf5f8451881e3c841a1331664",
       "value": "<h5>Job ID</h5>"
      }
     },
     "1886ea3a4f1b4a1094ad6fce97f6a365": {
      "model_module": "@jupyter-widgets/controls",
      "model_module_version": "1.5.0",
      "model_name": "DescriptionStyleModel",
      "state": {
       "description_width": ""
      }
     },
     "19f30ae7231244c0b4fc268359724b36": {
      "model_module": "@jupyter-widgets/base",
      "model_module_version": "1.2.0",
      "model_name": "LayoutModel",
      "state": {
       "margin": "0px 0px 0px 37px",
       "width": "600px"
      }
     },
     "1b8e2662934142f5a6b0a18c9e6ca9ea": {
      "model_module": "@jupyter-widgets/base",
      "model_module_version": "1.2.0",
      "model_name": "LayoutModel",
      "state": {
       "width": "145px"
      }
     },
     "1bdaf188bded45c2ba483d0f330c5111": {
      "model_module": "@jupyter-widgets/base",
      "model_module_version": "1.2.0",
      "model_name": "LayoutModel",
      "state": {
       "grid_template_areas": "\n                                       \". . . . right \"\n                                        ",
       "grid_template_columns": "20% 20% 20% 20% 20%",
       "width": "100%"
      }
     },
     "1c56b9340678424d9a094a181bf71023": {
      "model_module": "@jupyter-widgets/controls",
      "model_module_version": "1.5.0",
      "model_name": "HTMLModel",
      "state": {
       "layout": "IPY_MODEL_dbb2b59d9cc8452c88a5886415412bb5",
       "style": "IPY_MODEL_2387c462e3e747338a3b853c6db557fc",
       "value": "job has successfully run"
      }
     },
     "1d68036d5e8a4e2ca6536f76cef18eda": {
      "model_module": "@jupyter-widgets/controls",
      "model_module_version": "1.5.0",
      "model_name": "HBoxModel",
      "state": {
       "children": [
        "IPY_MODEL_2c627b7015f0463ab8dd9cef5642ec3d",
        "IPY_MODEL_edd5971214b74655bcf4e0d39e9625cd",
        "IPY_MODEL_f423e0426dd348a5ae58287c52fa208f",
        "IPY_MODEL_83c58f89954f4df7a19b8b69a73a4d3d",
        "IPY_MODEL_21b3cf9834f540cfa03e10e1c84c2d25",
        "IPY_MODEL_5c766294b4494cfa9b25d8bbc081b78b"
       ],
       "layout": "IPY_MODEL_e0cea42512824ef68b01e5d8bdf0831f"
      }
     },
     "1ffd03db43284bb18f9f985840c5edf9": {
      "model_module": "@jupyter-widgets/controls",
      "model_module_version": "1.5.0",
      "model_name": "DescriptionStyleModel",
      "state": {
       "description_width": ""
      }
     },
     "2007dc02905740eebb39eeabee4c68c4": {
      "model_module": "@jupyter-widgets/controls",
      "model_module_version": "1.5.0",
      "model_name": "DescriptionStyleModel",
      "state": {
       "description_width": ""
      }
     },
     "218b951a44cb49f3b93bdd223216820e": {
      "model_module": "@quantum/ibm-q-composer-jupyter-widget",
      "model_module_version": "^0.1.16",
      "model_name": "CircuitComposerModel",
      "state": {
       "_model_module_version": "^0.1.16",
       "_view_module_version": "^0.1.16",
       "circuit": "\"OPENQASM 2.0;\\ninclude \\\"qelib1.inc\\\";\\n\\nqreg q[12];\\ncreg c[12];\\n\\nh q[0];\\nh q[1];\\nbarrier q[2];\\nbarrier q[3];\\nbarrier q[4];\\nbarrier q[5];\\nbarrier q[6];\\nbarrier q[7];\\nbarrier q[8];\\nbarrier q[9];\\nbarrier q[10];\\nh q[11];\\nbarrier q[0];\\nbarrier q[1];\\nbarrier q[2];\\nbarrier q[3];\\nbarrier q[4];\\nbarrier q[5];\\nbarrier q[6];\\nbarrier q[7];\\nbarrier q[8];\\nbarrier q[9];\\nbarrier q[10];\\nbarrier q[11];\\nh q[0];\\nh q[1];\\nbarrier q[2];\\nbarrier q[3];\\nbarrier q[4];\\nbarrier q[5];\\nbarrier q[6];\\ncx q[7],q[10];\\nt q[11];\\nh q[0];\\nh q[1];\\nbarrier q[7];\\nbarrier q[8];\\nbarrier q[9];\\nbarrier q[11];\\np(pi/2) q[0];\\nbarrier q[1];\\ncx q[10],q[11];\\nbarrier q[0];\\nbarrier q[10];\\nbarrier q[11];\\nmeasure q[1] -> c[1];\\nmeasure q[0] -> c[0];\"",
       "layout": "IPY_MODEL_f7a4469c0d5845f5b9fb01dd8bf30eb7",
       "qiskit_code_cell_index": -1
      }
     },
     "21b3cf9834f540cfa03e10e1c84c2d25": {
      "model_module": "@jupyter-widgets/controls",
      "model_module_version": "1.5.0",
      "model_name": "HTMLModel",
      "state": {
       "layout": "IPY_MODEL_7ae41625077b404aaa84af8d241d9a2a",
       "style": "IPY_MODEL_54bc54155d0241da9a6b5c5a6380cebc",
       "value": "-"
      }
     },
     "2387c462e3e747338a3b853c6db557fc": {
      "model_module": "@jupyter-widgets/controls",
      "model_module_version": "1.5.0",
      "model_name": "DescriptionStyleModel",
      "state": {
       "description_width": ""
      }
     },
     "26f59df6114547648d2305dcd8353d7c": {
      "model_module": "@jupyter-widgets/controls",
      "model_module_version": "1.5.0",
      "model_name": "DescriptionStyleModel",
      "state": {
       "description_width": ""
      }
     },
     "28a6822abcdb4199abe37b8541c4fb2c": {
      "model_module": "@jupyter-widgets/controls",
      "model_module_version": "1.5.0",
      "model_name": "HTMLModel",
      "state": {
       "layout": "IPY_MODEL_c9fd3a061b7a4aea9747a1c434080b3b",
       "style": "IPY_MODEL_7a20c81766a74a72aed32ccbac22d902",
       "value": "<p style='font-family: IBM Plex Sans, Arial, Helvetica, sans-serif; font-size: 20px; font-weight: medium;'>Circuit Properties</p>"
      }
     },
     "2ad1a1145cab4355ae60fa6da2578528": {
      "model_module": "@jupyter-widgets/controls",
      "model_module_version": "1.5.0",
      "model_name": "ButtonModel",
      "state": {
       "button_style": "primary",
       "description": "Clear",
       "layout": "IPY_MODEL_a7443e7d514f4985ae3ca74276bbe8ee",
       "style": "IPY_MODEL_0820ae8f93ec4977909481c8aaa6ad28"
      }
     },
     "2b025eddd41347ec9deee28938ae8ab3": {
      "model_module": "@jupyter-widgets/controls",
      "model_module_version": "1.5.0",
      "model_name": "HTMLModel",
      "state": {
       "layout": "IPY_MODEL_bd2fc73c60b546e1a87bc21108144102",
       "style": "IPY_MODEL_4eb59ce2e1ee4d528fe7b281b72b9870",
       "value": "<font style='color:#34BC6E'>DONE</font>"
      }
     },
     "2c627b7015f0463ab8dd9cef5642ec3d": {
      "model_module": "@jupyter-widgets/controls",
      "model_module_version": "1.5.0",
      "model_name": "ButtonModel",
      "state": {
       "icon": "close",
       "layout": "IPY_MODEL_90a1bb25421e4f748bdc40347f638eaa",
       "style": "IPY_MODEL_bbc083bca0ce4db48e5383243644b9a8"
      }
     },
     "2cbd6226f2394fa1b948748cf942b177": {
      "model_module": "@jupyter-widgets/controls",
      "model_module_version": "1.5.0",
      "model_name": "DescriptionStyleModel",
      "state": {
       "description_width": ""
      }
     },
     "2e8c6ed7ec064ae5820199292ad7236b": {
      "model_module": "@jupyter-widgets/controls",
      "model_module_version": "1.5.0",
      "model_name": "HTMLModel",
      "state": {
       "layout": "IPY_MODEL_64e1dc85543c4c9484db821d969259df",
       "style": "IPY_MODEL_1886ea3a4f1b4a1094ad6fce97f6a365",
       "value": "<h5>Message</h5>"
      }
     },
     "2ff67dc8253f4ba4ae04270db68ddae5": {
      "model_module": "@jupyter-widgets/controls",
      "model_module_version": "1.5.0",
      "model_name": "HBoxModel",
      "state": {
       "children": [
        "IPY_MODEL_78ddbf5c481c4927853d584ae8f82565",
        "IPY_MODEL_0d1a0b6dc8c4422296f9e04bda60da84",
        "IPY_MODEL_ef727d43c14746aa89284378a3843bb2",
        "IPY_MODEL_149ac67b98f240ca9806b524d0571cbd",
        "IPY_MODEL_2e8c6ed7ec064ae5820199292ad7236b"
       ],
       "layout": "IPY_MODEL_19f30ae7231244c0b4fc268359724b36"
      }
     },
     "31acc89bf8584ebca1fc48f661041a1c": {
      "model_module": "@jupyter-widgets/controls",
      "model_module_version": "1.5.0",
      "model_name": "HTMLModel",
      "state": {
       "layout": "IPY_MODEL_60bc3fc39392498a92ea88a673501082",
       "style": "IPY_MODEL_c56baf8d92fb4f10875f404783580d87",
       "value": "5fdf8ef798d368001af5943f"
      }
     },
     "31bba8855194472ebfe182252091645b": {
      "model_module": "@jupyter-widgets/controls",
      "model_module_version": "1.5.0",
      "model_name": "DescriptionStyleModel",
      "state": {
       "description_width": ""
      }
     },
     "33a9d9b318914bfc949f14ceb0353166": {
      "model_module": "@jupyter-widgets/base",
      "model_module_version": "1.2.0",
      "model_name": "LayoutModel",
      "state": {
       "max_width": "700px",
       "min_width": "700px"
      }
     },
     "3409e0250ff4430ea7ec99a2d51956aa": {
      "model_module": "@jupyter-widgets/base",
      "model_module_version": "1.2.0",
      "model_name": "LayoutModel",
      "state": {}
     },
     "34838e139b454810ae2ea899c9089752": {
      "model_module": "@jupyter-widgets/controls",
      "model_module_version": "1.5.0",
      "model_name": "HTMLModel",
      "state": {
       "layout": "IPY_MODEL_f1e8520eee0e40ffb296d45fe2cfdb91",
       "style": "IPY_MODEL_0ab419a115a448789122810035d13805",
       "value": "<h5>Job ID</h5>"
      }
     },
     "379b9547140d4bc3a4ffa3d42567f57e": {
      "model_module": "@jupyter-widgets/base",
      "model_module_version": "1.2.0",
      "model_name": "LayoutModel",
      "state": {
       "grid_area": "right",
       "padding": "0px 0px 0px 0px",
       "width": "70px"
      }
     },
     "393f6335817c4ffa903a68167ac83cf2": {
      "model_module": "@jupyter-widgets/base",
      "model_module_version": "1.2.0",
      "model_name": "LayoutModel",
      "state": {}
     },
     "3a5fa40966b24d4a860140f1ec2f00ec": {
      "model_module": "@jupyter-widgets/base",
      "model_module_version": "1.2.0",
      "model_name": "LayoutModel",
      "state": {
       "margin": "0px 5px 0px 0px",
       "width": "32px"
      }
     },
     "3d9352c7e80e41408c007a2ed564afce": {
      "model_module": "@jupyter-widgets/controls",
      "model_module_version": "1.5.0",
      "model_name": "HTMLModel",
      "state": {
       "layout": "IPY_MODEL_b0a3484c20694365af0d6f650aa34e3e",
       "style": "IPY_MODEL_40bbcb0888d84fffb336861c12a73b69",
       "value": "<h5>Message</h5>"
      }
     },
     "3edbc306f867405cac37feb463b9f24f": {
      "model_module": "@jupyter-widgets/controls",
      "model_module_version": "1.5.0",
      "model_name": "GridBoxModel",
      "state": {
       "children": [
        "IPY_MODEL_2ad1a1145cab4355ae60fa6da2578528"
       ],
       "layout": "IPY_MODEL_9213280c19de488ea23f5bb20d78e6d4"
      }
     },
     "404d828f411f4f2485dfa77f6d08601f": {
      "model_module": "@jupyter-widgets/controls",
      "model_module_version": "1.5.0",
      "model_name": "HTMLModel",
      "state": {
       "layout": "IPY_MODEL_f1758a86b316480785f24573fd4f47e7",
       "style": "IPY_MODEL_506c7acd3c954f2e9f9d796112102e83",
       "value": "<font style='color:#34BC6E'>DONE</font>"
      }
     },
     "40bbcb0888d84fffb336861c12a73b69": {
      "model_module": "@jupyter-widgets/controls",
      "model_module_version": "1.5.0",
      "model_name": "DescriptionStyleModel",
      "state": {
       "description_width": ""
      }
     },
     "4206867c6fd14eadb1f685a8dc38c7b6": {
      "model_module": "@jupyter-widgets/base",
      "model_module_version": "1.2.0",
      "model_name": "LayoutModel",
      "state": {
       "width": "70px"
      }
     },
     "440937e0727b4b33ae2953bd3f86bf6b": {
      "model_module": "@jupyter-widgets/controls",
      "model_module_version": "1.5.0",
      "model_name": "HTMLModel",
      "state": {
       "layout": "IPY_MODEL_d820946579a74009ab0ff6d709540560",
       "style": "IPY_MODEL_b905958580464f14aa48da941eec1618",
       "value": "<h5>Status</h5>"
      }
     },
     "46b89dd082ea4d71a8f6402fefaa7a19": {
      "model_module": "@jupyter-widgets/controls",
      "model_module_version": "1.5.0",
      "model_name": "DescriptionStyleModel",
      "state": {
       "description_width": ""
      }
     },
     "4991e98da2a14b2297bb18336ea538e4": {
      "model_module": "@jupyter-widgets/controls",
      "model_module_version": "1.5.0",
      "model_name": "HTMLModel",
      "state": {
       "layout": "IPY_MODEL_8fad45d955ee4d068037b4b4f218b43d",
       "style": "IPY_MODEL_912eefe9b55544bfab672e500748d90d",
       "value": "<p style='font-family: IBM Plex Sans, Arial, Helvetica, sans-serif; font-size: 20px; font-weight: medium;'>Circuit Properties</p>"
      }
     },
     "4a553eeacfb44f0789c0e2ffbc543c57": {
      "model_module": "@jupyter-widgets/base",
      "model_module_version": "1.2.0",
      "model_name": "LayoutModel",
      "state": {
       "overflow_x": "scroll"
      }
     },
     "4ad01f56fd5d40d68a01d88425475dae": {
      "model_module": "@jupyter-widgets/controls",
      "model_module_version": "1.5.0",
      "model_name": "DescriptionStyleModel",
      "state": {
       "description_width": ""
      }
     },
     "4bcf4876cd3142d88635cdd35201d9ae": {
      "model_module": "@jupyter-widgets/controls",
      "model_module_version": "1.5.0",
      "model_name": "DescriptionStyleModel",
      "state": {
       "description_width": ""
      }
     },
     "4cdee53f8b594062ae3341149dc545c8": {
      "model_module": "@jupyter-widgets/controls",
      "model_module_version": "1.5.0",
      "model_name": "DescriptionStyleModel",
      "state": {
       "description_width": ""
      }
     },
     "4eb59ce2e1ee4d528fe7b281b72b9870": {
      "model_module": "@jupyter-widgets/controls",
      "model_module_version": "1.5.0",
      "model_name": "DescriptionStyleModel",
      "state": {
       "description_width": ""
      }
     },
     "4fee240c2ffc4ce7a95cc01b7131a34b": {
      "model_module": "@jupyter-widgets/controls",
      "model_module_version": "1.5.0",
      "model_name": "HTMLModel",
      "state": {
       "layout": "IPY_MODEL_cf0cb4555bf645a2ac0ce99c81d9306e",
       "style": "IPY_MODEL_ef62c1331ab743b7826de4d81e8226fc",
       "value": "5fdf9001a9c299001b472f28"
      }
     },
     "50293dc33acf4f48842634c995038958": {
      "model_module": "@jupyter-widgets/controls",
      "model_module_version": "1.5.0",
      "model_name": "DescriptionStyleModel",
      "state": {
       "description_width": ""
      }
     },
     "5061918446174a84bb3661a4b5a87583": {
      "model_module": "@jupyter-widgets/base",
      "model_module_version": "1.2.0",
      "model_name": "LayoutModel",
      "state": {
       "width": "145px"
      }
     },
     "506c7acd3c954f2e9f9d796112102e83": {
      "model_module": "@jupyter-widgets/controls",
      "model_module_version": "1.5.0",
      "model_name": "DescriptionStyleModel",
      "state": {
       "description_width": ""
      }
     },
     "51c83e68c7354b58aa6cee3584d2c987": {
      "model_module": "@jupyter-widgets/base",
      "model_module_version": "1.2.0",
      "model_name": "LayoutModel",
      "state": {
       "max_width": "700px",
       "min_width": "700px"
      }
     },
     "534ebf66fe1642579453bbae4b6b430d": {
      "model_module": "@jupyter-widgets/controls",
      "model_module_version": "1.5.0",
      "model_name": "GridBoxModel",
      "state": {
       "children": [
        "IPY_MODEL_9de9a80c13064b58b1bb0e4e8f25a101"
       ],
       "layout": "IPY_MODEL_e7bf5b6954a8464d9a889756df05282b"
      }
     },
     "54bc54155d0241da9a6b5c5a6380cebc": {
      "model_module": "@jupyter-widgets/controls",
      "model_module_version": "1.5.0",
      "model_name": "DescriptionStyleModel",
      "state": {
       "description_width": ""
      }
     },
     "56c293d3a1064f7688b4191dbfb2291c": {
      "model_module": "@jupyter-widgets/controls",
      "model_module_version": "1.5.0",
      "model_name": "HTMLModel",
      "state": {
       "layout": "IPY_MODEL_5a5d19bb74e64b52b0d779da3f5a0b67",
       "style": "IPY_MODEL_9dfb3b02f2854a2c90162916d4c9a5df",
       "value": "<h5>Backend</h5>"
      }
     },
     "57c0d58837da42188d1bfe27beb639b4": {
      "model_module": "@jupyter-widgets/base",
      "model_module_version": "1.2.0",
      "model_name": "LayoutModel",
      "state": {
       "width": "145px"
      }
     },
     "594fd42b0fc443a6b40cfa2c7c6ccf26": {
      "model_module": "@jupyter-widgets/controls",
      "model_module_version": "1.5.0",
      "model_name": "HTMLModel",
      "state": {
       "layout": "IPY_MODEL_3409e0250ff4430ea7ec99a2d51956aa",
       "style": "IPY_MODEL_61430098046a4087a1974aa42b71ecfd",
       "value": "<h5>Message</h5>"
      }
     },
     "5a5d19bb74e64b52b0d779da3f5a0b67": {
      "model_module": "@jupyter-widgets/base",
      "model_module_version": "1.2.0",
      "model_name": "LayoutModel",
      "state": {
       "width": "145px"
      }
     },
     "5c766294b4494cfa9b25d8bbc081b78b": {
      "model_module": "@jupyter-widgets/controls",
      "model_module_version": "1.5.0",
      "model_name": "HTMLModel",
      "state": {
       "layout": "IPY_MODEL_4a553eeacfb44f0789c0e2ffbc543c57",
       "style": "IPY_MODEL_1ffd03db43284bb18f9f985840c5edf9",
       "value": "job has successfully run"
      }
     },
     "5c949b1fcbd54c229fc3fddbe332ed79": {
      "model_module": "@jupyter-widgets/controls",
      "model_module_version": "1.5.0",
      "model_name": "HTMLModel",
      "state": {
       "layout": "IPY_MODEL_a30e433bda2f44b9bf7dfe3af25e188d",
       "style": "IPY_MODEL_705321565c3e4b04977b01f2a13abd1c",
       "value": "ibmq_qasm_simulator"
      }
     },
     "5f110212b65c4a54be74b3bcd07208d2": {
      "model_module": "@jupyter-widgets/controls",
      "model_module_version": "1.5.0",
      "model_name": "ButtonModel",
      "state": {
       "button_style": "primary",
       "description": "Clear",
       "layout": "IPY_MODEL_379b9547140d4bc3a4ffa3d42567f57e",
       "style": "IPY_MODEL_710c9c8452f340b1889d4ae907a769c1"
      }
     },
     "5f757bee6dbc4e48b19a2a36f505643b": {
      "model_module": "@jupyter-widgets/base",
      "model_module_version": "1.2.0",
      "model_name": "LayoutModel",
      "state": {}
     },
     "60bc3fc39392498a92ea88a673501082": {
      "model_module": "@jupyter-widgets/base",
      "model_module_version": "1.2.0",
      "model_name": "LayoutModel",
      "state": {
       "width": "190px"
      }
     },
     "61430098046a4087a1974aa42b71ecfd": {
      "model_module": "@jupyter-widgets/controls",
      "model_module_version": "1.5.0",
      "model_name": "DescriptionStyleModel",
      "state": {
       "description_width": ""
      }
     },
     "64e1dc85543c4c9484db821d969259df": {
      "model_module": "@jupyter-widgets/base",
      "model_module_version": "1.2.0",
      "model_name": "LayoutModel",
      "state": {}
     },
     "64e7a0ee5e9b484a996cf01c8ddf5180": {
      "model_module": "@jupyter-widgets/base",
      "model_module_version": "1.2.0",
      "model_name": "LayoutModel",
      "state": {
       "width": "95px"
      }
     },
     "66db9def92014ee8ba275fc8141719dd": {
      "model_module": "@jupyter-widgets/controls",
      "model_module_version": "1.5.0",
      "model_name": "DescriptionStyleModel",
      "state": {
       "description_width": ""
      }
     },
     "69b08717131a4114b042edbe6f2175e5": {
      "model_module": "@jupyter-widgets/controls",
      "model_module_version": "1.5.0",
      "model_name": "HTMLModel",
      "state": {
       "layout": "IPY_MODEL_1b8e2662934142f5a6b0a18c9e6ca9ea",
       "style": "IPY_MODEL_26f59df6114547648d2305dcd8353d7c",
       "value": "<h5>Backend</h5>"
      }
     },
     "6c459f9230d44999bd3cb9d084dae3bc": {
      "model_module": "@jupyter-widgets/base",
      "model_module_version": "1.2.0",
      "model_name": "LayoutModel",
      "state": {
       "width": "145px"
      }
     },
     "6c48fe5a445d488f847f030e7a5d69e4": {
      "model_module": "@jupyter-widgets/controls",
      "model_module_version": "1.5.0",
      "model_name": "ButtonStyleModel",
      "state": {}
     },
     "6de8c3a5bd6b4f81975b581c3ff436b6": {
      "model_module": "@jupyter-widgets/controls",
      "model_module_version": "1.5.0",
      "model_name": "HTMLModel",
      "state": {
       "layout": "IPY_MODEL_067524b24019468499f39fa58b6e78d2",
       "style": "IPY_MODEL_50293dc33acf4f48842634c995038958",
       "value": "<p style='font-family: IBM Plex Sans, Arial, Helvetica, sans-serif; font-size: 20px; font-weight: medium;'>Circuit Properties</p>"
      }
     },
     "6f1708e783594825aed5a0bc9c766897": {
      "model_module": "@jupyter-widgets/controls",
      "model_module_version": "1.5.0",
      "model_name": "HBoxModel",
      "state": {
       "children": [
        "IPY_MODEL_17d5bf379c374f1ba192c26b543a83f1",
        "IPY_MODEL_c2bb98d66bf64d03a908b620c73b44f1",
        "IPY_MODEL_440937e0727b4b33ae2953bd3f86bf6b",
        "IPY_MODEL_d87684f5fe9c4344976a65697ebf018d",
        "IPY_MODEL_3d9352c7e80e41408c007a2ed564afce"
       ],
       "layout": "IPY_MODEL_cfd2be55641545fcb2758b4d2eeca427"
      }
     },
     "6f391c93ac044a8f9e3e4c73fb041829": {
      "model_module": "@jupyter-widgets/controls",
      "model_module_version": "1.5.0",
      "model_name": "ButtonStyleModel",
      "state": {
       "button_color": "white"
      }
     },
     "6f899e3d0dcd482dadaf171a3677a9e5": {
      "model_module": "@jupyter-widgets/controls",
      "model_module_version": "1.5.0",
      "model_name": "HBoxModel",
      "state": {
       "children": [
        "IPY_MODEL_d84ce9bac9964863b88f63ef3b4939a2",
        "IPY_MODEL_31acc89bf8584ebca1fc48f661041a1c",
        "IPY_MODEL_5c949b1fcbd54c229fc3fddbe332ed79",
        "IPY_MODEL_2b025eddd41347ec9deee28938ae8ab3",
        "IPY_MODEL_f82b319a84a4492bb00fe667328d839c",
        "IPY_MODEL_852a1bf89f1e4d5a92dcbcf9a7c27660"
       ],
       "layout": "IPY_MODEL_c8fb8b0f19cf4e71863b6e4c80df8bc0"
      }
     },
     "705321565c3e4b04977b01f2a13abd1c": {
      "model_module": "@jupyter-widgets/controls",
      "model_module_version": "1.5.0",
      "model_name": "DescriptionStyleModel",
      "state": {
       "description_width": ""
      }
     },
     "710c9c8452f340b1889d4ae907a769c1": {
      "model_module": "@jupyter-widgets/controls",
      "model_module_version": "1.5.0",
      "model_name": "ButtonStyleModel",
      "state": {}
     },
     "73d462963fd3451289436119284b46fd": {
      "model_module": "@jupyter-widgets/base",
      "model_module_version": "1.2.0",
      "model_name": "LayoutModel",
      "state": {
       "width": "70px"
      }
     },
     "76a306c3f1fc4eb58a69d4688044db84": {
      "model_module": "@jupyter-widgets/base",
      "model_module_version": "1.2.0",
      "model_name": "LayoutModel",
      "state": {
       "overflow_x": "scroll"
      }
     },
     "77a3397692cc41ba908fbb4f1f1da06b": {
      "model_module": "@jupyter-widgets/base",
      "model_module_version": "1.2.0",
      "model_name": "LayoutModel",
      "state": {
       "width": "70px"
      }
     },
     "78ddbf5c481c4927853d584ae8f82565": {
      "model_module": "@jupyter-widgets/controls",
      "model_module_version": "1.5.0",
      "model_name": "HTMLModel",
      "state": {
       "layout": "IPY_MODEL_a8f99a39c62b4b769299c950c9c1b7d3",
       "style": "IPY_MODEL_e0e0dd34805b42e4bae52f6aaf946747",
       "value": "<h5>Job ID</h5>"
      }
     },
     "7a20c81766a74a72aed32ccbac22d902": {
      "model_module": "@jupyter-widgets/controls",
      "model_module_version": "1.5.0",
      "model_name": "DescriptionStyleModel",
      "state": {
       "description_width": ""
      }
     },
     "7ae41625077b404aaa84af8d241d9a2a": {
      "model_module": "@jupyter-widgets/base",
      "model_module_version": "1.2.0",
      "model_name": "LayoutModel",
      "state": {
       "width": "70px"
      }
     },
     "7df7b2370f6a47c9ae73994722686c22": {
      "model_module": "@jupyter-widgets/base",
      "model_module_version": "1.2.0",
      "model_name": "LayoutModel",
      "state": {
       "margin": "0px 5px 0px 0px",
       "width": "32px"
      }
     },
     "7f0acc4aae2e4786b7696db999e41ce3": {
      "model_module": "@jupyter-widgets/base",
      "model_module_version": "1.2.0",
      "model_name": "LayoutModel",
      "state": {
       "width": "95px"
      }
     },
     "8089bd6ebac04c27a8b88a23046e1b60": {
      "model_module": "@jupyter-widgets/controls",
      "model_module_version": "1.5.0",
      "model_name": "DescriptionStyleModel",
      "state": {
       "description_width": ""
      }
     },
     "80bc211694d644e480a2521dd57b3118": {
      "model_module": "@jupyter-widgets/controls",
      "model_module_version": "1.5.0",
      "model_name": "HTMLModel",
      "state": {
       "layout": "IPY_MODEL_64e7a0ee5e9b484a996cf01c8ddf5180",
       "style": "IPY_MODEL_ec2183835def41bfbacccd645bc13e22",
       "value": "<h5>Status</h5>"
      }
     },
     "83c58f89954f4df7a19b8b69a73a4d3d": {
      "model_module": "@jupyter-widgets/controls",
      "model_module_version": "1.5.0",
      "model_name": "HTMLModel",
      "state": {
       "layout": "IPY_MODEL_7f0acc4aae2e4786b7696db999e41ce3",
       "style": "IPY_MODEL_2007dc02905740eebb39eeabee4c68c4",
       "value": "<font style='color:#34BC6E'>DONE</font>"
      }
     },
     "84b8ee73b1384b8fa0f0b3a60cb58d94": {
      "model_module": "@jupyter-widgets/controls",
      "model_module_version": "1.5.0",
      "model_name": "HTMLModel",
      "state": {
       "layout": "IPY_MODEL_ebb3b72f562a40a789ca8e7b05db2f7c",
       "style": "IPY_MODEL_96a75fe8d7e24bf7b6b371d566d8692c",
       "value": "<font style='color:#34BC6E'>DONE</font>"
      }
     },
     "852a1bf89f1e4d5a92dcbcf9a7c27660": {
      "model_module": "@jupyter-widgets/controls",
      "model_module_version": "1.5.0",
      "model_name": "HTMLModel",
      "state": {
       "layout": "IPY_MODEL_fb9f42878cae41d8b14373c6fe504d9d",
       "style": "IPY_MODEL_8089bd6ebac04c27a8b88a23046e1b60",
       "value": "job has successfully run"
      }
     },
     "8e57c511d22148beb92bafb4b9d72308": {
      "model_module": "@jupyter-widgets/controls",
      "model_module_version": "1.5.0",
      "model_name": "HTMLModel",
      "state": {
       "layout": "IPY_MODEL_da278a6f4f854c84965499811e25897e",
       "style": "IPY_MODEL_015c99f098fb47cba0d4f82c00014072",
       "value": "-"
      }
     },
     "8eeb6a36467e4318bb7e71a5258232fd": {
      "model_module": "@jupyter-widgets/controls",
      "model_module_version": "1.5.0",
      "model_name": "HTMLModel",
      "state": {
       "layout": "IPY_MODEL_e4a866d7d5d24be9b336f1417c20edd5",
       "style": "IPY_MODEL_2cbd6226f2394fa1b948748cf942b177",
       "value": "<h5>Queue</h5>"
      }
     },
     "8f2faa71bee543c88bcae4014843353f": {
      "model_module": "@jupyter-widgets/controls",
      "model_module_version": "1.5.0",
      "model_name": "HBoxModel",
      "state": {
       "children": [
        "IPY_MODEL_34838e139b454810ae2ea899c9089752",
        "IPY_MODEL_69b08717131a4114b042edbe6f2175e5",
        "IPY_MODEL_0be03ad1be60469296400b2aece6dd09",
        "IPY_MODEL_d9b45593ffc54e959344c19d261c6c63",
        "IPY_MODEL_e2943ea15e1b441eb857cbf421cad1cf"
       ],
       "layout": "IPY_MODEL_c2e755eed4f1433ebcab0a09f2bbc9d8"
      }
     },
     "8fad45d955ee4d068037b4b4f218b43d": {
      "model_module": "@jupyter-widgets/base",
      "model_module_version": "1.2.0",
      "model_name": "LayoutModel",
      "state": {
       "margin": "0px 0px 10px 0px"
      }
     },
     "90a1bb25421e4f748bdc40347f638eaa": {
      "model_module": "@jupyter-widgets/base",
      "model_module_version": "1.2.0",
      "model_name": "LayoutModel",
      "state": {
       "margin": "0px 5px 0px 0px",
       "width": "32px"
      }
     },
     "912eefe9b55544bfab672e500748d90d": {
      "model_module": "@jupyter-widgets/controls",
      "model_module_version": "1.5.0",
      "model_name": "DescriptionStyleModel",
      "state": {
       "description_width": ""
      }
     },
     "9213280c19de488ea23f5bb20d78e6d4": {
      "model_module": "@jupyter-widgets/base",
      "model_module_version": "1.2.0",
      "model_name": "LayoutModel",
      "state": {
       "grid_template_areas": "\n                                       \". . . . right \"\n                                        ",
       "grid_template_columns": "20% 20% 20% 20% 20%",
       "width": "100%"
      }
     },
     "93cb8fe3fb3a4e50b0c32c71223084a0": {
      "model_module": "@jupyter-widgets/controls",
      "model_module_version": "1.5.0",
      "model_name": "ButtonStyleModel",
      "state": {
       "button_color": "white"
      }
     },
     "94d4960c6f9a4c97bc1dd868b144fbff": {
      "model_module": "@jupyter-widgets/controls",
      "model_module_version": "1.5.0",
      "model_name": "DescriptionStyleModel",
      "state": {
       "description_width": ""
      }
     },
     "96a75fe8d7e24bf7b6b371d566d8692c": {
      "model_module": "@jupyter-widgets/controls",
      "model_module_version": "1.5.0",
      "model_name": "DescriptionStyleModel",
      "state": {
       "description_width": ""
      }
     },
     "9de9a80c13064b58b1bb0e4e8f25a101": {
      "model_module": "@jupyter-widgets/controls",
      "model_module_version": "1.5.0",
      "model_name": "ButtonModel",
      "state": {
       "button_style": "primary",
       "description": "Clear",
       "layout": "IPY_MODEL_008e8b4fe4204a2ca218618cda53a937",
       "style": "IPY_MODEL_6c48fe5a445d488f847f030e7a5d69e4"
      }
     },
     "9dfb3b02f2854a2c90162916d4c9a5df": {
      "model_module": "@jupyter-widgets/controls",
      "model_module_version": "1.5.0",
      "model_name": "DescriptionStyleModel",
      "state": {
       "description_width": ""
      }
     },
     "a1dc34bd559b4c3ca7d52b9931cb34aa": {
      "model_module": "@jupyter-widgets/controls",
      "model_module_version": "1.5.0",
      "model_name": "HTMLModel",
      "state": {
       "layout": "IPY_MODEL_b8f6d4cb042b496490a26de441047ab7",
       "style": "IPY_MODEL_a3453f1a3c8a40c795339e0d0b421ee3",
       "value": "ibmq_qasm_simulator"
      }
     },
     "a293fb4d490041baa08ebc755075b0b1": {
      "model_module": "@jupyter-widgets/base",
      "model_module_version": "1.2.0",
      "model_name": "LayoutModel",
      "state": {
       "margin": "0px 5px 0px 0px",
       "width": "32px"
      }
     },
     "a30e433bda2f44b9bf7dfe3af25e188d": {
      "model_module": "@jupyter-widgets/base",
      "model_module_version": "1.2.0",
      "model_name": "LayoutModel",
      "state": {
       "width": "145px"
      }
     },
     "a3453f1a3c8a40c795339e0d0b421ee3": {
      "model_module": "@jupyter-widgets/controls",
      "model_module_version": "1.5.0",
      "model_name": "DescriptionStyleModel",
      "state": {
       "description_width": ""
      }
     },
     "a4e87bacd5da4a12aab58acf963c9d19": {
      "model_module": "@jupyter-widgets/base",
      "model_module_version": "1.2.0",
      "model_name": "LayoutModel",
      "state": {
       "width": "70px"
      }
     },
     "a7443e7d514f4985ae3ca74276bbe8ee": {
      "model_module": "@jupyter-widgets/base",
      "model_module_version": "1.2.0",
      "model_name": "LayoutModel",
      "state": {
       "grid_area": "right",
       "padding": "0px 0px 0px 0px",
       "width": "70px"
      }
     },
     "a8f99a39c62b4b769299c950c9c1b7d3": {
      "model_module": "@jupyter-widgets/base",
      "model_module_version": "1.2.0",
      "model_name": "LayoutModel",
      "state": {
       "width": "190px"
      }
     },
     "a92ed45dabe74bf9a3ad271a1a84a3d5": {
      "model_module": "@jupyter-widgets/controls",
      "model_module_version": "1.5.0",
      "model_name": "DescriptionStyleModel",
      "state": {
       "description_width": ""
      }
     },
     "aa637cac78b64cad9a6b65146cece04a": {
      "model_module": "@quantum/ibm-q-composer-jupyter-widget",
      "model_module_version": "^0.1.16",
      "model_name": "CircuitComposerModel",
      "state": {
       "_model_module_version": "^0.1.16",
       "_view_module_version": "^0.1.16",
       "circuit": "\"OPENQASM 2.0;\\ninclude \\\"qelib1.inc\\\";\\n\\nqreg q[12];\\ncreg c[12];\\n\\nh q[0];\\nh q[1];\\nbarrier q[2];\\nbarrier q[3];\\nbarrier q[4];\\nbarrier q[5];\\nbarrier q[6];\\nbarrier q[7];\\nbarrier q[8];\\nbarrier q[9];\\nbarrier q[10];\\nh q[11];\\nbarrier q[0];\\nbarrier q[1];\\nbarrier q[2];\\nbarrier q[3];\\nbarrier q[4];\\nbarrier q[5];\\nbarrier q[6];\\nbarrier q[7];\\nbarrier q[8];\\nbarrier q[9];\\nbarrier q[10];\\nbarrier q[11];\\nh q[0];\\nh q[1];\\nbarrier q[2];\\nbarrier q[3];\\nbarrier q[4];\\nbarrier q[5];\\nbarrier q[6];\\ncx q[7],q[10];\\nt q[11];\\nh q[0];\\nh q[1];\\nbarrier q[7];\\nbarrier q[8];\\nbarrier q[9];\\nbarrier q[11];\\np(pi/2) q[0];\\nbarrier q[1];\\ncx q[10],q[11];\\nbarrier q[0];\\nbarrier q[10];\\nbarrier q[11];\\nmeasure q[1] -> c[1];\\nmeasure q[0] -> c[0];\"",
       "layout": "IPY_MODEL_5f757bee6dbc4e48b19a2a36f505643b",
       "qiskit_code_cell_index": -1
      }
     },
     "aa86028567824c0591c7c28c680a4a8e": {
      "model_module": "@jupyter-widgets/base",
      "model_module_version": "1.2.0",
      "model_name": "LayoutModel",
      "state": {
       "width": "70px"
      }
     },
     "aa8d36878d044cb48ca0244ed9d11eb7": {
      "model_module": "@jupyter-widgets/base",
      "model_module_version": "1.2.0",
      "model_name": "LayoutModel",
      "state": {}
     },
     "aa90b36010d74b2ba041e8cdccc58ef1": {
      "model_module": "@jupyter-widgets/controls",
      "model_module_version": "1.5.0",
      "model_name": "HTMLModel",
      "state": {
       "layout": "IPY_MODEL_76a306c3f1fc4eb58a69d4688044db84",
       "style": "IPY_MODEL_4ad01f56fd5d40d68a01d88425475dae",
       "value": "job has successfully run"
      }
     },
     "aae706e1558c4b9187209e3cea684b8f": {
      "model_module": "@jupyter-widgets/controls",
      "model_module_version": "1.5.0",
      "model_name": "ButtonModel",
      "state": {
       "icon": "close",
       "layout": "IPY_MODEL_7df7b2370f6a47c9ae73994722686c22",
       "style": "IPY_MODEL_93cb8fe3fb3a4e50b0c32c71223084a0"
      }
     },
     "afff4d7f0c0749ff869da2708da81b99": {
      "model_module": "@jupyter-widgets/controls",
      "model_module_version": "1.5.0",
      "model_name": "HTMLModel",
      "state": {
       "layout": "IPY_MODEL_73d462963fd3451289436119284b46fd",
       "style": "IPY_MODEL_f926b837dd03413db301c0702cfae9b8",
       "value": "-"
      }
     },
     "b0a3484c20694365af0d6f650aa34e3e": {
      "model_module": "@jupyter-widgets/base",
      "model_module_version": "1.2.0",
      "model_name": "LayoutModel",
      "state": {}
     },
     "b37cb95a3b654e6da3559fb03dff5ff1": {
      "model_module": "@jupyter-widgets/controls",
      "model_module_version": "1.5.0",
      "model_name": "GridBoxModel",
      "state": {
       "children": [
        "IPY_MODEL_5f110212b65c4a54be74b3bcd07208d2"
       ],
       "layout": "IPY_MODEL_dab9fd91d2bd4e4b947e0a6f5652bc18"
      }
     },
     "b4592a3e3fcf4bd8bc95fd852a5ec502": {
      "model_module": "@jupyter-widgets/base",
      "model_module_version": "1.2.0",
      "model_name": "LayoutModel",
      "state": {
       "width": "145px"
      }
     },
     "b63d79c2a6244956929977438a2d6a20": {
      "model_module": "@jupyter-widgets/controls",
      "model_module_version": "1.5.0",
      "model_name": "HBoxModel",
      "state": {
       "children": [
        "IPY_MODEL_cf1db5fd94f446d6b72cd67a4ea78122",
        "IPY_MODEL_d3f9a7a2b180422db0fdd76fac784a5c",
        "IPY_MODEL_a1dc34bd559b4c3ca7d52b9931cb34aa",
        "IPY_MODEL_84b8ee73b1384b8fa0f0b3a60cb58d94",
        "IPY_MODEL_8e57c511d22148beb92bafb4b9d72308",
        "IPY_MODEL_1c56b9340678424d9a094a181bf71023"
       ],
       "layout": "IPY_MODEL_33a9d9b318914bfc949f14ceb0353166"
      }
     },
     "b6a4e04cf5f8451881e3c841a1331664": {
      "model_module": "@jupyter-widgets/controls",
      "model_module_version": "1.5.0",
      "model_name": "DescriptionStyleModel",
      "state": {
       "description_width": ""
      }
     },
     "b8edae4b952e438ab1047d9c107bf4c5": {
      "model_module": "@jupyter-widgets/controls",
      "model_module_version": "1.5.0",
      "model_name": "ButtonStyleModel",
      "state": {}
     },
     "b8f6d4cb042b496490a26de441047ab7": {
      "model_module": "@jupyter-widgets/base",
      "model_module_version": "1.2.0",
      "model_name": "LayoutModel",
      "state": {
       "width": "145px"
      }
     },
     "b905958580464f14aa48da941eec1618": {
      "model_module": "@jupyter-widgets/controls",
      "model_module_version": "1.5.0",
      "model_name": "DescriptionStyleModel",
      "state": {
       "description_width": ""
      }
     },
     "bbbf7a50006d4379adec7c7eaf234f81": {
      "model_module": "@jupyter-widgets/controls",
      "model_module_version": "1.5.0",
      "model_name": "HBoxModel",
      "state": {
       "children": [
        "IPY_MODEL_ce95728f5e744c1b8c52a31da8907972",
        "IPY_MODEL_56c293d3a1064f7688b4191dbfb2291c",
        "IPY_MODEL_80bc211694d644e480a2521dd57b3118",
        "IPY_MODEL_8eeb6a36467e4318bb7e71a5258232fd",
        "IPY_MODEL_594fd42b0fc443a6b40cfa2c7c6ccf26"
       ],
       "layout": "IPY_MODEL_e2e0576c83754e89b39622680b53c8b4"
      }
     },
     "bbc083bca0ce4db48e5383243644b9a8": {
      "model_module": "@jupyter-widgets/controls",
      "model_module_version": "1.5.0",
      "model_name": "ButtonStyleModel",
      "state": {
       "button_color": "white"
      }
     },
     "bd2fc73c60b546e1a87bc21108144102": {
      "model_module": "@jupyter-widgets/base",
      "model_module_version": "1.2.0",
      "model_name": "LayoutModel",
      "state": {
       "width": "95px"
      }
     },
     "bf0d7d51c7094a5f8874cd1199113f0a": {
      "model_module": "@jupyter-widgets/controls",
      "model_module_version": "1.5.0",
      "model_name": "DescriptionStyleModel",
      "state": {
       "description_width": ""
      }
     },
     "c0412cda70654f44878bfc6366b98a23": {
      "model_module": "@quantum/ibm-q-composer-jupyter-widget",
      "model_module_version": "^0.1.16",
      "model_name": "CircuitComposerModel",
      "state": {
       "_model_module_version": "^0.1.16",
       "_view_module_version": "^0.1.16",
       "circuit": "\"OPENQASM 2.0;\\ninclude \\\"qelib1.inc\\\";\\n\\nqreg q[12];\\ncreg c[12];\\n\\nh q[0];\\nh q[1];\\nbarrier q[2];\\nbarrier q[3];\\nbarrier q[4];\\nbarrier q[5];\\nbarrier q[6];\\nbarrier q[7];\\nbarrier q[8];\\nbarrier q[9];\\nbarrier q[10];\\nh q[11];\\nbarrier q[0];\\nbarrier q[1];\\nbarrier q[2];\\nbarrier q[3];\\nbarrier q[4];\\nbarrier q[5];\\nbarrier q[6];\\nbarrier q[7];\\nbarrier q[8];\\nbarrier q[9];\\nbarrier q[10];\\nbarrier q[11];\\nh q[0];\\nh q[1];\\nbarrier q[2];\\nbarrier q[3];\\nbarrier q[4];\\nbarrier q[5];\\nbarrier q[6];\\ncx q[7],q[10];\\nt q[11];\\nh q[0];\\nh q[1];\\nbarrier q[7];\\nbarrier q[8];\\nbarrier q[9];\\nbarrier q[11];\\np(pi/2) q[0];\\nbarrier q[1];\\ncx q[10],q[11];\\nbarrier q[0];\\nbarrier q[10];\\nbarrier q[11];\\nmeasure q[1] -> c[1];\\nmeasure q[0] -> c[0];\"",
       "layout": "IPY_MODEL_393f6335817c4ffa903a68167ac83cf2",
       "qiskit_code_cell_index": -1
      }
     },
     "c1b09fbb23ae43268692189fb9ffe95e": {
      "model_module": "@jupyter-widgets/base",
      "model_module_version": "1.2.0",
      "model_name": "LayoutModel",
      "state": {
       "grid_area": "right",
       "padding": "0px 0px 0px 0px",
       "width": "70px"
      }
     },
     "c2bb98d66bf64d03a908b620c73b44f1": {
      "model_module": "@jupyter-widgets/controls",
      "model_module_version": "1.5.0",
      "model_name": "HTMLModel",
      "state": {
       "layout": "IPY_MODEL_57c0d58837da42188d1bfe27beb639b4",
       "style": "IPY_MODEL_cf6549ac7d5d40a5b42e4bce33f287ac",
       "value": "<h5>Backend</h5>"
      }
     },
     "c2e755eed4f1433ebcab0a09f2bbc9d8": {
      "model_module": "@jupyter-widgets/base",
      "model_module_version": "1.2.0",
      "model_name": "LayoutModel",
      "state": {
       "margin": "0px 0px 0px 37px",
       "width": "600px"
      }
     },
     "c517effb2c7e42e69ea628bf8e38812a": {
      "model_module": "@jupyter-widgets/base",
      "model_module_version": "1.2.0",
      "model_name": "LayoutModel",
      "state": {
       "margin": "0px 0px 10px 0px"
      }
     },
     "c56baf8d92fb4f10875f404783580d87": {
      "model_module": "@jupyter-widgets/controls",
      "model_module_version": "1.5.0",
      "model_name": "DescriptionStyleModel",
      "state": {
       "description_width": ""
      }
     },
     "c7e031c2a28144b08b4beb35aff113b8": {
      "model_module": "@jupyter-widgets/controls",
      "model_module_version": "1.5.0",
      "model_name": "ButtonStyleModel",
      "state": {
       "button_color": "white"
      }
     },
     "c83469c335504b218d653c0e80fa2e3a": {
      "model_module": "@jupyter-widgets/controls",
      "model_module_version": "1.5.0",
      "model_name": "DescriptionStyleModel",
      "state": {
       "description_width": ""
      }
     },
     "c8d438f92a7845678dfe09e2ad6c7a4e": {
      "model_module": "@jupyter-widgets/base",
      "model_module_version": "1.2.0",
      "model_name": "LayoutModel",
      "state": {
       "width": "190px"
      }
     },
     "c8fb8b0f19cf4e71863b6e4c80df8bc0": {
      "model_module": "@jupyter-widgets/base",
      "model_module_version": "1.2.0",
      "model_name": "LayoutModel",
      "state": {
       "max_width": "700px",
       "min_width": "700px"
      }
     },
     "c9fd3a061b7a4aea9747a1c434080b3b": {
      "model_module": "@jupyter-widgets/base",
      "model_module_version": "1.2.0",
      "model_name": "LayoutModel",
      "state": {
       "margin": "0px 0px 10px 0px"
      }
     },
     "cc945f72a835476a814706fabb85276e": {
      "model_module": "@jupyter-widgets/controls",
      "model_module_version": "1.5.0",
      "model_name": "HTMLModel",
      "state": {
       "layout": "IPY_MODEL_c517effb2c7e42e69ea628bf8e38812a",
       "style": "IPY_MODEL_94d4960c6f9a4c97bc1dd868b144fbff",
       "value": "<p style='font-family: IBM Plex Sans, Arial, Helvetica, sans-serif; font-size: 20px; font-weight: medium;'>Circuit Properties</p>"
      }
     },
     "ce95728f5e744c1b8c52a31da8907972": {
      "model_module": "@jupyter-widgets/controls",
      "model_module_version": "1.5.0",
      "model_name": "HTMLModel",
      "state": {
       "layout": "IPY_MODEL_073470b4b5644104937e316d340c3d41",
       "style": "IPY_MODEL_ef2a1e9fee6644ef8f1db487dbecebfb",
       "value": "<h5>Job ID</h5>"
      }
     },
     "cf0cb4555bf645a2ac0ce99c81d9306e": {
      "model_module": "@jupyter-widgets/base",
      "model_module_version": "1.2.0",
      "model_name": "LayoutModel",
      "state": {
       "width": "190px"
      }
     },
     "cf1db5fd94f446d6b72cd67a4ea78122": {
      "model_module": "@jupyter-widgets/controls",
      "model_module_version": "1.5.0",
      "model_name": "ButtonModel",
      "state": {
       "icon": "close",
       "layout": "IPY_MODEL_a293fb4d490041baa08ebc755075b0b1",
       "style": "IPY_MODEL_6f391c93ac044a8f9e3e4c73fb041829"
      }
     },
     "cf5f72fe222c4390b5dee053194be34b": {
      "model_module": "@jupyter-widgets/base",
      "model_module_version": "1.2.0",
      "model_name": "LayoutModel",
      "state": {
       "width": "95px"
      }
     },
     "cf6549ac7d5d40a5b42e4bce33f287ac": {
      "model_module": "@jupyter-widgets/controls",
      "model_module_version": "1.5.0",
      "model_name": "DescriptionStyleModel",
      "state": {
       "description_width": ""
      }
     },
     "cfd2be55641545fcb2758b4d2eeca427": {
      "model_module": "@jupyter-widgets/base",
      "model_module_version": "1.2.0",
      "model_name": "LayoutModel",
      "state": {
       "margin": "0px 0px 0px 37px",
       "width": "600px"
      }
     },
     "d0ad0d22e9ea469f9badf33104ba568e": {
      "model_module": "@quantum/ibm-q-composer-jupyter-widget",
      "model_module_version": "^0.1.16",
      "model_name": "CircuitComposerModel",
      "state": {
       "_model_module_version": "^0.1.16",
       "_view_module_version": "^0.1.16",
       "circuit": "\"OPENQASM 2.0;\\ninclude \\\"qelib1.inc\\\";\\n\\nqreg q[12];\\ncreg c[12];\\n\\nh q[0];\\nh q[1];\\nbarrier q[2];\\nbarrier q[3];\\nbarrier q[4];\\nbarrier q[5];\\nbarrier q[6];\\nbarrier q[7];\\nbarrier q[8];\\nbarrier q[9];\\nbarrier q[10];\\nh q[11];\\nbarrier q[0];\\nbarrier q[1];\\nbarrier q[2];\\nbarrier q[3];\\nbarrier q[4];\\nbarrier q[5];\\nbarrier q[6];\\nbarrier q[7];\\nbarrier q[8];\\nbarrier q[9];\\nbarrier q[10];\\nbarrier q[11];\\nh q[0];\\nh q[1];\\nbarrier q[2];\\nbarrier q[3];\\nbarrier q[4];\\nbarrier q[5];\\nbarrier q[6];\\ncx q[7],q[10];\\nt q[11];\\nh q[0];\\nh q[1];\\nbarrier q[7];\\nbarrier q[8];\\nbarrier q[9];\\nbarrier q[11];\\np(pi/2) q[0];\\nbarrier q[1];\\ncx q[10],q[11];\\nbarrier q[0];\\nbarrier q[10];\\nbarrier q[11];\\nmeasure q[1] -> c[1];\\nmeasure q[0] -> c[0];\"",
       "layout": "IPY_MODEL_aa8d36878d044cb48ca0244ed9d11eb7",
       "qiskit_code_cell_index": -1
      }
     },
     "d3f9a7a2b180422db0fdd76fac784a5c": {
      "model_module": "@jupyter-widgets/controls",
      "model_module_version": "1.5.0",
      "model_name": "HTMLModel",
      "state": {
       "layout": "IPY_MODEL_c8d438f92a7845678dfe09e2ad6c7a4e",
       "style": "IPY_MODEL_c83469c335504b218d653c0e80fa2e3a",
       "value": "5fdf91aba9c299001b472f5f"
      }
     },
     "d5e6cb84ff3a417aa46136cbfe5b843e": {
      "model_module": "@jupyter-widgets/controls",
      "model_module_version": "1.5.0",
      "model_name": "ButtonModel",
      "state": {
       "button_style": "primary",
       "description": "Clear",
       "layout": "IPY_MODEL_c1b09fbb23ae43268692189fb9ffe95e",
       "style": "IPY_MODEL_b8edae4b952e438ab1047d9c107bf4c5"
      }
     },
     "d820946579a74009ab0ff6d709540560": {
      "model_module": "@jupyter-widgets/base",
      "model_module_version": "1.2.0",
      "model_name": "LayoutModel",
      "state": {
       "width": "95px"
      }
     },
     "d84ce9bac9964863b88f63ef3b4939a2": {
      "model_module": "@jupyter-widgets/controls",
      "model_module_version": "1.5.0",
      "model_name": "ButtonModel",
      "state": {
       "icon": "close",
       "layout": "IPY_MODEL_3a5fa40966b24d4a860140f1ec2f00ec",
       "style": "IPY_MODEL_c7e031c2a28144b08b4beb35aff113b8"
      }
     },
     "d87684f5fe9c4344976a65697ebf018d": {
      "model_module": "@jupyter-widgets/controls",
      "model_module_version": "1.5.0",
      "model_name": "HTMLModel",
      "state": {
       "layout": "IPY_MODEL_77a3397692cc41ba908fbb4f1f1da06b",
       "style": "IPY_MODEL_0561d66d13514485a16e00f998b74216",
       "value": "<h5>Queue</h5>"
      }
     },
     "d9b45593ffc54e959344c19d261c6c63": {
      "model_module": "@jupyter-widgets/controls",
      "model_module_version": "1.5.0",
      "model_name": "HTMLModel",
      "state": {
       "layout": "IPY_MODEL_4206867c6fd14eadb1f685a8dc38c7b6",
       "style": "IPY_MODEL_f1f2d5c394f44b46a4ada2d7723bb2a0",
       "value": "<h5>Queue</h5>"
      }
     },
     "da278a6f4f854c84965499811e25897e": {
      "model_module": "@jupyter-widgets/base",
      "model_module_version": "1.2.0",
      "model_name": "LayoutModel",
      "state": {
       "width": "70px"
      }
     },
     "dab9fd91d2bd4e4b947e0a6f5652bc18": {
      "model_module": "@jupyter-widgets/base",
      "model_module_version": "1.2.0",
      "model_name": "LayoutModel",
      "state": {
       "grid_template_areas": "\n                                       \". . . . right \"\n                                        ",
       "grid_template_columns": "20% 20% 20% 20% 20%",
       "width": "100%"
      }
     },
     "dac87ae9992943fbb2ab3b918251bf76": {
      "model_module": "@jupyter-widgets/base",
      "model_module_version": "1.2.0",
      "model_name": "LayoutModel",
      "state": {
       "width": "190px"
      }
     },
     "dbb2b59d9cc8452c88a5886415412bb5": {
      "model_module": "@jupyter-widgets/base",
      "model_module_version": "1.2.0",
      "model_name": "LayoutModel",
      "state": {
       "overflow_x": "scroll"
      }
     },
     "e0cea42512824ef68b01e5d8bdf0831f": {
      "model_module": "@jupyter-widgets/base",
      "model_module_version": "1.2.0",
      "model_name": "LayoutModel",
      "state": {
       "max_width": "700px",
       "min_width": "700px"
      }
     },
     "e0e0dd34805b42e4bae52f6aaf946747": {
      "model_module": "@jupyter-widgets/controls",
      "model_module_version": "1.5.0",
      "model_name": "DescriptionStyleModel",
      "state": {
       "description_width": ""
      }
     },
     "e2943ea15e1b441eb857cbf421cad1cf": {
      "model_module": "@jupyter-widgets/controls",
      "model_module_version": "1.5.0",
      "model_name": "HTMLModel",
      "state": {
       "layout": "IPY_MODEL_ff840b64a37c4a40ad3bc57536dd0104",
       "style": "IPY_MODEL_4bcf4876cd3142d88635cdd35201d9ae",
       "value": "<h5>Message</h5>"
      }
     },
     "e2e0576c83754e89b39622680b53c8b4": {
      "model_module": "@jupyter-widgets/base",
      "model_module_version": "1.2.0",
      "model_name": "LayoutModel",
      "state": {
       "margin": "0px 0px 0px 37px",
       "width": "600px"
      }
     },
     "e4a866d7d5d24be9b336f1417c20edd5": {
      "model_module": "@jupyter-widgets/base",
      "model_module_version": "1.2.0",
      "model_name": "LayoutModel",
      "state": {
       "width": "70px"
      }
     },
     "e5b269d92d554ec784f378a1399e3fec": {
      "model_module": "@jupyter-widgets/base",
      "model_module_version": "1.2.0",
      "model_name": "LayoutModel",
      "state": {
       "width": "190px"
      }
     },
     "e7bf5b6954a8464d9a889756df05282b": {
      "model_module": "@jupyter-widgets/base",
      "model_module_version": "1.2.0",
      "model_name": "LayoutModel",
      "state": {
       "grid_template_areas": "\n                                       \". . . . right \"\n                                        ",
       "grid_template_columns": "20% 20% 20% 20% 20%",
       "width": "100%"
      }
     },
     "ebb3b72f562a40a789ca8e7b05db2f7c": {
      "model_module": "@jupyter-widgets/base",
      "model_module_version": "1.2.0",
      "model_name": "LayoutModel",
      "state": {
       "width": "95px"
      }
     },
     "ec2183835def41bfbacccd645bc13e22": {
      "model_module": "@jupyter-widgets/controls",
      "model_module_version": "1.5.0",
      "model_name": "DescriptionStyleModel",
      "state": {
       "description_width": ""
      }
     },
     "edd5971214b74655bcf4e0d39e9625cd": {
      "model_module": "@jupyter-widgets/controls",
      "model_module_version": "1.5.0",
      "model_name": "HTMLModel",
      "state": {
       "layout": "IPY_MODEL_dac87ae9992943fbb2ab3b918251bf76",
       "style": "IPY_MODEL_46b89dd082ea4d71a8f6402fefaa7a19",
       "value": "5fdf91b25af4a7001a2f573f"
      }
     },
     "ef2a1e9fee6644ef8f1db487dbecebfb": {
      "model_module": "@jupyter-widgets/controls",
      "model_module_version": "1.5.0",
      "model_name": "DescriptionStyleModel",
      "state": {
       "description_width": ""
      }
     },
     "ef62c1331ab743b7826de4d81e8226fc": {
      "model_module": "@jupyter-widgets/controls",
      "model_module_version": "1.5.0",
      "model_name": "DescriptionStyleModel",
      "state": {
       "description_width": ""
      }
     },
     "ef727d43c14746aa89284378a3843bb2": {
      "model_module": "@jupyter-widgets/controls",
      "model_module_version": "1.5.0",
      "model_name": "HTMLModel",
      "state": {
       "layout": "IPY_MODEL_cf5f72fe222c4390b5dee053194be34b",
       "style": "IPY_MODEL_66db9def92014ee8ba275fc8141719dd",
       "value": "<h5>Status</h5>"
      }
     },
     "efa29a2111044fde9256dc049dbc2037": {
      "model_module": "@jupyter-widgets/controls",
      "model_module_version": "1.5.0",
      "model_name": "GridBoxModel",
      "state": {
       "children": [
        "IPY_MODEL_d5e6cb84ff3a417aa46136cbfe5b843e"
       ],
       "layout": "IPY_MODEL_1bdaf188bded45c2ba483d0f330c5111"
      }
     },
     "f1758a86b316480785f24573fd4f47e7": {
      "model_module": "@jupyter-widgets/base",
      "model_module_version": "1.2.0",
      "model_name": "LayoutModel",
      "state": {
       "width": "95px"
      }
     },
     "f1e8520eee0e40ffb296d45fe2cfdb91": {
      "model_module": "@jupyter-widgets/base",
      "model_module_version": "1.2.0",
      "model_name": "LayoutModel",
      "state": {
       "width": "190px"
      }
     },
     "f1f2d5c394f44b46a4ada2d7723bb2a0": {
      "model_module": "@jupyter-widgets/controls",
      "model_module_version": "1.5.0",
      "model_name": "DescriptionStyleModel",
      "state": {
       "description_width": ""
      }
     },
     "f423e0426dd348a5ae58287c52fa208f": {
      "model_module": "@jupyter-widgets/controls",
      "model_module_version": "1.5.0",
      "model_name": "HTMLModel",
      "state": {
       "layout": "IPY_MODEL_5061918446174a84bb3661a4b5a87583",
       "style": "IPY_MODEL_31bba8855194472ebfe182252091645b",
       "value": "ibmq_qasm_simulator"
      }
     },
     "f7a4469c0d5845f5b9fb01dd8bf30eb7": {
      "model_module": "@jupyter-widgets/base",
      "model_module_version": "1.2.0",
      "model_name": "LayoutModel",
      "state": {}
     },
     "f82b319a84a4492bb00fe667328d839c": {
      "model_module": "@jupyter-widgets/controls",
      "model_module_version": "1.5.0",
      "model_name": "HTMLModel",
      "state": {
       "layout": "IPY_MODEL_a4e87bacd5da4a12aab58acf963c9d19",
       "style": "IPY_MODEL_0e20639beb65493496cc28d284de2bbb",
       "value": "-"
      }
     },
     "f926b837dd03413db301c0702cfae9b8": {
      "model_module": "@jupyter-widgets/controls",
      "model_module_version": "1.5.0",
      "model_name": "DescriptionStyleModel",
      "state": {
       "description_width": ""
      }
     },
     "fb9f42878cae41d8b14373c6fe504d9d": {
      "model_module": "@jupyter-widgets/base",
      "model_module_version": "1.2.0",
      "model_name": "LayoutModel",
      "state": {
       "overflow_x": "scroll"
      }
     },
     "ff840b64a37c4a40ad3bc57536dd0104": {
      "model_module": "@jupyter-widgets/base",
      "model_module_version": "1.2.0",
      "model_name": "LayoutModel",
      "state": {}
     }
    },
    "version_major": 2,
    "version_minor": 0
   }
  }
 },
 "nbformat": 4,
 "nbformat_minor": 4
}
